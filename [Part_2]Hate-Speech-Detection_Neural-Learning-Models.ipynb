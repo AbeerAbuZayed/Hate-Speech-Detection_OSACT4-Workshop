{
  "nbformat": 4,
  "nbformat_minor": 0,
  "metadata": {
    "colab": {
      "name": "[Part 2]Hate Speech Detection_Neural Learning Models.ipynb",
      "provenance": [],
      "collapsed_sections": [],
      "toc_visible": true,
      "include_colab_link": true
    },
    "kernelspec": {
      "name": "python3",
      "display_name": "Python 3"
    }
  },
  "cells": [
    {
      "cell_type": "markdown",
      "metadata": {
        "id": "view-in-github",
        "colab_type": "text"
      },
      "source": [
        "<a href=\"https://colab.research.google.com/github/AbeerAbuZayed/QUIUG_Hate-Speech-Detection_OSACT4-Workshop/blob/master/%5BPart_2%5DHate-Speech-Detection_Neural-Learning-Models.ipynb\" target=\"_parent\"><img src=\"https://colab.research.google.com/assets/colab-badge.svg\" alt=\"Open In Colab\"/></a>"
      ]
    },
    {
      "cell_type": "markdown",
      "metadata": {
        "id": "wrCuCYE3b7Zs",
        "colab_type": "text"
      },
      "source": [
        "#[Part 2] Hate speech Detection using Neural Learning Models\n",
        "In this notebook, we conduct a preliminary experiment on the detection of hate speech in Arabic tweets as part of our participation in the Hate Speech Detection subtask in [OSACT4 workshop](http://edinburghnlp.inf.ed.ac.uk/workshops/OSACT4/).\n",
        "\n",
        "We experimented with three types of neural models:\n",
        "### 1.   Recurrent Neural Networks (RNN):\n",
        ">*   Long Short-Term Memory (LSTM)\n",
        ">*   Bidirectional LSTM (BLSTM)\n",
        ">*   Gated Recurrent Unit (GRU)\n",
        "\n",
        "\n",
        "### 2.   Convolutional Neural Networks (CNN)\n",
        "\n",
        "### 3.   Combined CNN-RNN:\n",
        ">* CNN-LSTM\n",
        ">* CNN-BLSTM\n",
        ">* CNN-GRU\n",
        ">* CNN-LSTM with overSampling\n",
        "\n",
        "\n"
      ]
    },
    {
      "cell_type": "code",
      "metadata": {
        "id": "3psLV0AyPwSV",
        "colab_type": "code",
        "colab": {
          "base_uri": "https://localhost:8080/",
          "height": 34
        },
        "outputId": "e8175ba8-eba8-44d0-e561-fbf70c889144"
      },
      "source": [
        "from google.colab import drive\n",
        "drive.mount('/content/drive')"
      ],
      "execution_count": 1,
      "outputs": [
        {
          "output_type": "stream",
          "text": [
            "Drive already mounted at /content/drive; to attempt to forcibly remount, call drive.mount(\"/content/drive\", force_remount=True).\n"
          ],
          "name": "stdout"
        }
      ]
    },
    {
      "cell_type": "code",
      "metadata": {
        "id": "jnSw0od87C8-",
        "colab_type": "code",
        "colab": {
          "base_uri": "https://localhost:8080/",
          "height": 81
        },
        "outputId": "511ee536-8050-4448-90d4-bc728b8f3c67"
      },
      "source": [
        "from keras.layers import Embedding, Dense, Dropout, Input, LSTM, Bidirectional,GRU\n",
        "from keras.layers import MaxPooling1D, Conv1D, Flatten\n",
        "from keras.preprocessing import sequence, text\n",
        "from keras.models import Model\n",
        "from keras.utils import np_utils\n",
        "from keras.callbacks import Callback\n",
        "\n",
        "from gensim.models.keyedvectors import KeyedVectors\n",
        "from sklearn import preprocessing\n",
        "from time import time\n",
        "import pandas as pd\n",
        "import numpy as np\n",
        "import matplotlib.pyplot as plt\n",
        "import seaborn as sns\n",
        "import csv\n",
        "\n",
        "from keras import optimizers\n",
        "\n",
        "from sklearn.metrics import f1_score\n",
        "from sklearn.metrics import accuracy_score\n",
        "\n",
        "from sklearn.utils import class_weight\n",
        "\n",
        "from sklearn import preprocessing\n",
        "from sklearn.metrics import (\n",
        "    classification_report as creport\n",
        ")\n"
      ],
      "execution_count": 1,
      "outputs": [
        {
          "output_type": "stream",
          "text": [
            "Using TensorFlow backend.\n"
          ],
          "name": "stderr"
        },
        {
          "output_type": "display_data",
          "data": {
            "text/html": [
              "<p style=\"color: red;\">\n",
              "The default version of TensorFlow in Colab will soon switch to TensorFlow 2.x.<br>\n",
              "We recommend you <a href=\"https://www.tensorflow.org/guide/migrate\" target=\"_blank\">upgrade</a> now \n",
              "or ensure your notebook will continue to use TensorFlow 1.x via the <code>%tensorflow_version 1.x</code> magic:\n",
              "<a href=\"https://colab.research.google.com/notebooks/tensorflow_version.ipynb\" target=\"_blank\">more info</a>.</p>\n"
            ],
            "text/plain": [
              "<IPython.core.display.HTML object>"
            ]
          },
          "metadata": {
            "tags": []
          }
        }
      ]
    },
    {
      "cell_type": "markdown",
      "metadata": {
        "id": "n6_dt2cDtobO",
        "colab_type": "text"
      },
      "source": [
        "# Data and AraVec2.0 (pre-trained word embeddings model) Loading"
      ]
    },
    {
      "cell_type": "code",
      "metadata": {
        "id": "2Mn0KDJg-o5u",
        "colab_type": "code",
        "outputId": "d540318e-f1a6-459e-e5c4-43693491540a",
        "colab": {
          "base_uri": "https://localhost:8080/",
          "height": 87
        }
      },
      "source": [
        "#pre-trained word embedding: https://github.com/bakrianoo/aravec/tree/master/AraVec%202.0\n",
        "\"\"\"\n",
        "Citation:\n",
        "Abu Bakr Soliman, Kareem Eisa, and Samhaa R. El-Beltagy, “AraVec:\n",
        "A set of Arabic Word Embedding Models for use in Arabic NLP”,\n",
        "in proceedings of the 3rd International Conference on \n",
        "Arabic Computational Linguistics (ACLing 2017), Dubai, UAE, 2017.\n",
        "\"\"\"\n",
        "! unzip '/content/drive/My Drive/New- test/tweets_sg_300.zip'  "
      ],
      "execution_count": 3,
      "outputs": [
        {
          "output_type": "stream",
          "text": [
            "Archive:  /content/drive/My Drive/New- test/tweets_sg_300.zip\n",
            "  inflating: tweets_sg_300           \n",
            "  inflating: tweets_sg_300.trainables.syn1neg.npy  \n",
            "  inflating: tweets_sg_300.wv.vectors.npy  \n"
          ],
          "name": "stdout"
        }
      ]
    },
    {
      "cell_type": "code",
      "metadata": {
        "id": "V3kKX6Ra-p1d",
        "colab_type": "code",
        "colab": {}
      },
      "source": [
        "# Word_embedding_path\n",
        "embedding_path = '/content/tweets_sg_300'           #Twitter-Skipgram model-300d(trained on 77,600,000 Arabic tweets)"
      ],
      "execution_count": 0,
      "outputs": []
    },
    {
      "cell_type": "code",
      "metadata": {
        "id": "JpRSY6aVACVF",
        "colab_type": "code",
        "outputId": "011b9c19-bb39-4b5e-906c-9eca6bf65c96",
        "colab": {
          "base_uri": "https://localhost:8080/",
          "height": 406
        }
      },
      "source": [
        "train_data = pd.read_csv('/content/drive/My Drive/OSACT4/train_data.csv')\n",
        "train_data"
      ],
      "execution_count": 3,
      "outputs": [
        {
          "output_type": "execute_result",
          "data": {
            "text/html": [
              "<div>\n",
              "<style scoped>\n",
              "    .dataframe tbody tr th:only-of-type {\n",
              "        vertical-align: middle;\n",
              "    }\n",
              "\n",
              "    .dataframe tbody tr th {\n",
              "        vertical-align: top;\n",
              "    }\n",
              "\n",
              "    .dataframe thead th {\n",
              "        text-align: right;\n",
              "    }\n",
              "</style>\n",
              "<table border=\"1\" class=\"dataframe\">\n",
              "  <thead>\n",
              "    <tr style=\"text-align: right;\">\n",
              "      <th></th>\n",
              "      <th>Tweet</th>\n",
              "      <th>Offensive</th>\n",
              "      <th>Hate</th>\n",
              "    </tr>\n",
              "  </thead>\n",
              "  <tbody>\n",
              "    <tr>\n",
              "      <th>0</th>\n",
              "      <td>الحمدلله يارب فوز مهم يا زمالك.. كل الدعم ليكم...</td>\n",
              "      <td>NOT_OFF</td>\n",
              "      <td>NOT_HS</td>\n",
              "    </tr>\n",
              "    <tr>\n",
              "      <th>1</th>\n",
              "      <td>فدوه يا بخت فدوه يا زمن واحد منكم يجيبه</td>\n",
              "      <td>NOT_OFF</td>\n",
              "      <td>NOT_HS</td>\n",
              "    </tr>\n",
              "    <tr>\n",
              "      <th>2</th>\n",
              "      <td>RT @USER: يا رب يا واحد يا أحد بحق يوم الاحد ا...</td>\n",
              "      <td>OFF</td>\n",
              "      <td>HS</td>\n",
              "    </tr>\n",
              "    <tr>\n",
              "      <th>3</th>\n",
              "      <td>RT @USER: #هوا_الحرية يا وجع قلبي عليكي يا امي...</td>\n",
              "      <td>NOT_OFF</td>\n",
              "      <td>NOT_HS</td>\n",
              "    </tr>\n",
              "    <tr>\n",
              "      <th>4</th>\n",
              "      <td>يا بكون بحياتك الأهم يا إما ما بدي أكون 🎼</td>\n",
              "      <td>NOT_OFF</td>\n",
              "      <td>NOT_HS</td>\n",
              "    </tr>\n",
              "    <tr>\n",
              "      <th>...</th>\n",
              "      <td>...</td>\n",
              "      <td>...</td>\n",
              "      <td>...</td>\n",
              "    </tr>\n",
              "    <tr>\n",
              "      <th>6995</th>\n",
              "      <td>@USER يا حمار ، يا جاهل ، نسبة الباطل ما بتتحس...</td>\n",
              "      <td>OFF</td>\n",
              "      <td>NOT_HS</td>\n",
              "    </tr>\n",
              "    <tr>\n",
              "      <th>6996</th>\n",
              "      <td>RT @USER: @USER كل زق يا طاقية يا واطي يا حقير...</td>\n",
              "      <td>OFF</td>\n",
              "      <td>NOT_HS</td>\n",
              "    </tr>\n",
              "    <tr>\n",
              "      <th>6997</th>\n",
              "      <td>@USER&lt;LF&gt;يا كبير يا ممتع يا نجم لابد أن تعي جي...</td>\n",
              "      <td>NOT_OFF</td>\n",
              "      <td>NOT_HS</td>\n",
              "    </tr>\n",
              "    <tr>\n",
              "      <th>6998</th>\n",
              "      <td>يا رب الاتحاد يفوز يا رب. 😭😭 #الاتحاد_النصر</td>\n",
              "      <td>NOT_OFF</td>\n",
              "      <td>NOT_HS</td>\n",
              "    </tr>\n",
              "    <tr>\n",
              "      <th>6999</th>\n",
              "      <td>يعز عليا ادخل الشارع وملاقيكش واقف مستنيني في ...</td>\n",
              "      <td>NOT_OFF</td>\n",
              "      <td>NOT_HS</td>\n",
              "    </tr>\n",
              "  </tbody>\n",
              "</table>\n",
              "<p>7000 rows × 3 columns</p>\n",
              "</div>"
            ],
            "text/plain": [
              "                                                  Tweet Offensive    Hate\n",
              "0     الحمدلله يارب فوز مهم يا زمالك.. كل الدعم ليكم...   NOT_OFF  NOT_HS\n",
              "1               فدوه يا بخت فدوه يا زمن واحد منكم يجيبه   NOT_OFF  NOT_HS\n",
              "2     RT @USER: يا رب يا واحد يا أحد بحق يوم الاحد ا...       OFF      HS\n",
              "3     RT @USER: #هوا_الحرية يا وجع قلبي عليكي يا امي...   NOT_OFF  NOT_HS\n",
              "4             يا بكون بحياتك الأهم يا إما ما بدي أكون 🎼   NOT_OFF  NOT_HS\n",
              "...                                                 ...       ...     ...\n",
              "6995  @USER يا حمار ، يا جاهل ، نسبة الباطل ما بتتحس...       OFF  NOT_HS\n",
              "6996  RT @USER: @USER كل زق يا طاقية يا واطي يا حقير...       OFF  NOT_HS\n",
              "6997  @USER<LF>يا كبير يا ممتع يا نجم لابد أن تعي جي...   NOT_OFF  NOT_HS\n",
              "6998        يا رب الاتحاد يفوز يا رب. 😭😭 #الاتحاد_النصر   NOT_OFF  NOT_HS\n",
              "6999  يعز عليا ادخل الشارع وملاقيكش واقف مستنيني في ...   NOT_OFF  NOT_HS\n",
              "\n",
              "[7000 rows x 3 columns]"
            ]
          },
          "metadata": {
            "tags": []
          },
          "execution_count": 3
        }
      ]
    },
    {
      "cell_type": "code",
      "metadata": {
        "id": "d5frVvfiL72D",
        "colab_type": "code",
        "outputId": "e6db2356-deb2-426a-c2ef-db09e13b560f",
        "colab": {
          "base_uri": "https://localhost:8080/",
          "height": 406
        }
      },
      "source": [
        "dev_data = pd.read_csv('/content/drive/My Drive/OSACT4/dev_data.csv')\n",
        "dev_data"
      ],
      "execution_count": 4,
      "outputs": [
        {
          "output_type": "execute_result",
          "data": {
            "text/html": [
              "<div>\n",
              "<style scoped>\n",
              "    .dataframe tbody tr th:only-of-type {\n",
              "        vertical-align: middle;\n",
              "    }\n",
              "\n",
              "    .dataframe tbody tr th {\n",
              "        vertical-align: top;\n",
              "    }\n",
              "\n",
              "    .dataframe thead th {\n",
              "        text-align: right;\n",
              "    }\n",
              "</style>\n",
              "<table border=\"1\" class=\"dataframe\">\n",
              "  <thead>\n",
              "    <tr style=\"text-align: right;\">\n",
              "      <th></th>\n",
              "      <th>Tweet</th>\n",
              "      <th>Offensive</th>\n",
              "      <th>Hate</th>\n",
              "    </tr>\n",
              "  </thead>\n",
              "  <tbody>\n",
              "    <tr>\n",
              "      <th>0</th>\n",
              "      <td>فى حاجات مينفعش نلفت نظركوا ليها زى الاصول كده...</td>\n",
              "      <td>NOT_OFF</td>\n",
              "      <td>NOT_HS</td>\n",
              "    </tr>\n",
              "    <tr>\n",
              "      <th>1</th>\n",
              "      <td>RT @USER: وعيون تنادينا تحايل فينا و نقول يا ع...</td>\n",
              "      <td>NOT_OFF</td>\n",
              "      <td>NOT_HS</td>\n",
              "    </tr>\n",
              "    <tr>\n",
              "      <th>2</th>\n",
              "      <td>يا بلادي يا أم البلاد يا بلادي بحبك يا مصر بحب...</td>\n",
              "      <td>NOT_OFF</td>\n",
              "      <td>NOT_HS</td>\n",
              "    </tr>\n",
              "    <tr>\n",
              "      <th>3</th>\n",
              "      <td>RT @USER: يا رب يا قوي يا معين مدّني بالقوة و ...</td>\n",
              "      <td>NOT_OFF</td>\n",
              "      <td>NOT_HS</td>\n",
              "    </tr>\n",
              "    <tr>\n",
              "      <th>4</th>\n",
              "      <td>RT @USER: رحمك الله يا صدام يا بطل ومقدام. URL</td>\n",
              "      <td>NOT_OFF</td>\n",
              "      <td>NOT_HS</td>\n",
              "    </tr>\n",
              "    <tr>\n",
              "      <th>...</th>\n",
              "      <td>...</td>\n",
              "      <td>...</td>\n",
              "      <td>...</td>\n",
              "    </tr>\n",
              "    <tr>\n",
              "      <th>995</th>\n",
              "      <td>RT @USER: انتو بتوزعوا زيت وسكر فعلا يا عباس؟&lt;...</td>\n",
              "      <td>NOT_OFF</td>\n",
              "      <td>NOT_HS</td>\n",
              "    </tr>\n",
              "    <tr>\n",
              "      <th>996</th>\n",
              "      <td>RT @USER: كدا يا عمر متزعلهاش يا حبيبي 😂 URL</td>\n",
              "      <td>NOT_OFF</td>\n",
              "      <td>NOT_HS</td>\n",
              "    </tr>\n",
              "    <tr>\n",
              "      <th>997</th>\n",
              "      <td>هدا سكن اطفال امارتين من شارقة طالبين فزعتكم ي...</td>\n",
              "      <td>NOT_OFF</td>\n",
              "      <td>NOT_HS</td>\n",
              "    </tr>\n",
              "    <tr>\n",
              "      <th>998</th>\n",
              "      <td>RT @USER: ومدني بمدد من قوتك أواجه به ضعفي.. و...</td>\n",
              "      <td>NOT_OFF</td>\n",
              "      <td>NOT_HS</td>\n",
              "    </tr>\n",
              "    <tr>\n",
              "      <th>999</th>\n",
              "      <td>يا سلااااام يا يو خالد انت والطرب الاصيل URL</td>\n",
              "      <td>NOT_OFF</td>\n",
              "      <td>NOT_HS</td>\n",
              "    </tr>\n",
              "  </tbody>\n",
              "</table>\n",
              "<p>1000 rows × 3 columns</p>\n",
              "</div>"
            ],
            "text/plain": [
              "                                                 Tweet Offensive    Hate\n",
              "0    فى حاجات مينفعش نلفت نظركوا ليها زى الاصول كده...   NOT_OFF  NOT_HS\n",
              "1    RT @USER: وعيون تنادينا تحايل فينا و نقول يا ع...   NOT_OFF  NOT_HS\n",
              "2    يا بلادي يا أم البلاد يا بلادي بحبك يا مصر بحب...   NOT_OFF  NOT_HS\n",
              "3    RT @USER: يا رب يا قوي يا معين مدّني بالقوة و ...   NOT_OFF  NOT_HS\n",
              "4       RT @USER: رحمك الله يا صدام يا بطل ومقدام. URL   NOT_OFF  NOT_HS\n",
              "..                                                 ...       ...     ...\n",
              "995  RT @USER: انتو بتوزعوا زيت وسكر فعلا يا عباس؟<...   NOT_OFF  NOT_HS\n",
              "996       RT @USER: كدا يا عمر متزعلهاش يا حبيبي 😂 URL   NOT_OFF  NOT_HS\n",
              "997  هدا سكن اطفال امارتين من شارقة طالبين فزعتكم ي...   NOT_OFF  NOT_HS\n",
              "998  RT @USER: ومدني بمدد من قوتك أواجه به ضعفي.. و...   NOT_OFF  NOT_HS\n",
              "999       يا سلااااام يا يو خالد انت والطرب الاصيل URL   NOT_OFF  NOT_HS\n",
              "\n",
              "[1000 rows x 3 columns]"
            ]
          },
          "metadata": {
            "tags": []
          },
          "execution_count": 4
        }
      ]
    },
    {
      "cell_type": "code",
      "metadata": {
        "id": "s9yxPtQjKsPa",
        "colab_type": "code",
        "outputId": "5b2fc967-0ae6-4ac3-ce82-f84b8912b0e6",
        "colab": {
          "base_uri": "https://localhost:8080/",
          "height": 52
        }
      },
      "source": [
        "print(\"Train data shape: {} \\nDev data shape: {}\".format(train_data.shape,dev_data.shape))\n"
      ],
      "execution_count": 5,
      "outputs": [
        {
          "output_type": "stream",
          "text": [
            "Train data shape: (7000, 3) \n",
            "Dev data shape: (1000, 3)\n"
          ],
          "name": "stdout"
        }
      ]
    },
    {
      "cell_type": "code",
      "metadata": {
        "id": "Ae5n6EhUcEDD",
        "colab_type": "code",
        "colab": {}
      },
      "source": [
        "def get_embedding_matrix(word_index, embedding_index, vocab_dim):\n",
        "    print('Building embedding matrix...')\n",
        "    embedding_matrix = np.zeros((len(word_index) + 1, vocab_dim))\n",
        "    for word, i in word_index.items():\n",
        "        try:\n",
        "            embedding_matrix[i] = embedding_index.get_vector(word)\n",
        "        except:\n",
        "            pass\n",
        "    print('Embedding matrix built.') \n",
        "    #print(\"Word index\", word_index.items())\n",
        "    #print(embedding_matrix) \n",
        "    return embedding_matrix\n",
        "\n",
        "\n",
        "def get_init_parameters(path, ext=None):\n",
        "    if ext == 'vec':\n",
        "        word_model = KeyedVectors.load_word2vec_format(path).wv\n",
        "    else:\n",
        "        word_model = KeyedVectors.load(path).wv\n",
        "    n_words = len(word_model.vocab)\n",
        "    vocab_dim = word_model[word_model.index2word[0]].shape[0]\n",
        "    index_dict = dict()\n",
        "    for i in range(n_words):\n",
        "        index_dict[word_model.index2word[i]] = i+1\n",
        "    print('Number of words in the word embedding',n_words)\n",
        "    #print('word_model', word_model)\n",
        "    #print(\"index_dict\",index_dict)\n",
        "    return word_model, index_dict, n_words, vocab_dim\n",
        "\n",
        "def get_max_length(text_data, return_line=False):\n",
        "    max_length = 0\n",
        "    long_line = \"\"\n",
        "    for line in text_data:\n",
        "        new = len(line.split())\n",
        "        if new > max_length:\n",
        "            max_length = new\n",
        "            long_line = line\n",
        "    if return_line:\n",
        "        return long_line, max_length\n",
        "    else:\n",
        "        return max_length\n",
        "    print(\"max\",long_line,max_length)\n",
        "\n",
        "def load_datasets(data_paths, header=True):\n",
        "    x = []\n",
        "    y = []\n",
        "    for data_path in data_paths:\n",
        "        with open(data_path, 'r') as f:\n",
        "            for line in f:\n",
        "                if header:\n",
        "                    header = False\n",
        "                else:\n",
        "                    temp = line.split(',')\n",
        "                    x.append(temp[0])\n",
        "                    y.append(temp[2].replace('\\n', ''))\n",
        "    max_length = get_max_length(x)\n",
        "    print('Max length:', max_length)\n",
        "    return x,y, max_length\n",
        "\n",
        "def get_train_test(train_raw_text, test_raw_text, n_words, max_length):\n",
        "    tokenizer = text.Tokenizer(num_words=n_words)\n",
        "    tokenizer.fit_on_texts(list(train_raw_text))\n",
        "    word_index = tokenizer.word_index\n",
        "   \n",
        "    train_tokenized = tokenizer.texts_to_sequences(train_raw_text)\n",
        "    test_tokenized = tokenizer.texts_to_sequences(test_raw_text)\n",
        "\n",
        "    return sequence.pad_sequences(train_tokenized, maxlen=max_length, padding='post', truncating='post'),\\\n",
        "           sequence.pad_sequences(test_tokenized, maxlen=max_length, padding='post', truncating='post'),\\\n",
        "           word_index\n",
        "\n",
        "def class_str_2_ind(x_train, x_test, y_train, y_test, classes, n_words, max_length):\n",
        "    print('Converting data to trainable form...')\n",
        "    y_encoder = preprocessing.LabelEncoder()\n",
        "    y_encoder.fit(classes)\n",
        "    y_train = y_encoder.transform(y_train)\n",
        "    y_test = y_encoder.transform(y_test)\n",
        "    #print(y_train)\n",
        "    #print(y_test)\n",
        "    train_y_cat = np_utils.to_categorical(y_train, len(classes))\n",
        "    x_vec_train, x_vec_test, word_index = get_train_test(x_train, x_test, n_words, max_length)\n",
        "    print('Number of training examples: ' + str(len(x_vec_train)))\n",
        "    print('Number of dev examples: ' + str(len(x_vec_test)))\n",
        "    return x_vec_train, x_vec_test, y_train, y_test, train_y_cat, word_index\n"
      ],
      "execution_count": 0,
      "outputs": []
    },
    {
      "cell_type": "code",
      "metadata": {
        "id": "lT0r5MyUbtGC",
        "colab_type": "code",
        "outputId": "629270b0-e874-46e0-acef-b4d419458efa",
        "colab": {
          "base_uri": "https://localhost:8080/",
          "height": 90
        }
      },
      "source": [
        "WORD_MODEL, _, MAX_FEATURES, EMBED_SIZE = get_init_parameters(embedding_path) "
      ],
      "execution_count": 7,
      "outputs": [
        {
          "output_type": "stream",
          "text": [
            "/usr/local/lib/python3.6/dist-packages/smart_open/smart_open_lib.py:402: UserWarning: This function is deprecated, use smart_open.open instead. See the migration notes for details: https://github.com/RaRe-Technologies/smart_open/blob/master/README.rst#migrating-to-the-new-open-function\n",
            "  'See the migration notes for details: %s' % _MIGRATION_NOTES_URL\n"
          ],
          "name": "stderr"
        },
        {
          "output_type": "stream",
          "text": [
            "Number of words in the word embedding 331679\n"
          ],
          "name": "stdout"
        }
      ]
    },
    {
      "cell_type": "code",
      "metadata": {
        "id": "cjwJ3aN3U1Mv",
        "colab_type": "code",
        "outputId": "5be8385e-658d-4eab-833f-42c30f5f7734",
        "colab": {
          "base_uri": "https://localhost:8080/",
          "height": 52
        }
      },
      "source": [
        "# load train data\n",
        "train_data_path=[\"/content/drive/My Drive/OSACT4/train_data_cleaned.csv\"]\n",
        "x_train, y_train, MAX_TEXT_LENGTH = load_datasets(train_data_path)\n",
        "CLASSES_LIST = np.unique(y_train)\n",
        "print('Label categories: ' + str(CLASSES_LIST))\n",
        "#0= HS, 1= NOT_HS"
      ],
      "execution_count": 8,
      "outputs": [
        {
          "output_type": "stream",
          "text": [
            "Max length: 84\n",
            "Label categories: ['HS' 'NOT_HS']\n"
          ],
          "name": "stdout"
        }
      ]
    },
    {
      "cell_type": "code",
      "metadata": {
        "id": "VGShWPV6UwCE",
        "colab_type": "code",
        "outputId": "0a6050c4-014a-4ac4-85b2-bafcee220799",
        "colab": {
          "base_uri": "https://localhost:8080/",
          "height": 52
        }
      },
      "source": [
        "# load dev data\n",
        "dev_data_path=[\"/content/drive/My Drive/OSACT4/dev_data_cleaned.csv\"]\n",
        "x_dev, y_dev, MAX_TEXT_LENGTH = load_datasets(dev_data_path)\n",
        "CLASSES_LIST = np.unique(y_dev)\n",
        "print('Label categories: ' + str(CLASSES_LIST))\n",
        "#0= HS, 1= NOT_HS"
      ],
      "execution_count": 9,
      "outputs": [
        {
          "output_type": "stream",
          "text": [
            "Max length: 72\n",
            "Label categories: ['HS' 'NOT_HS']\n"
          ],
          "name": "stdout"
        }
      ]
    },
    {
      "cell_type": "code",
      "metadata": {
        "id": "XcpaFQRJV8YL",
        "colab_type": "code",
        "colab": {}
      },
      "source": [
        "MAX_TEXT_LENGTH=84"
      ],
      "execution_count": 0,
      "outputs": []
    },
    {
      "cell_type": "code",
      "metadata": {
        "id": "plOnSpgUb18i",
        "colab_type": "code",
        "outputId": "9344be4d-07fc-428f-ada7-80ca0286db0c",
        "colab": {
          "base_uri": "https://localhost:8080/",
          "height": 70
        }
      },
      "source": [
        "x_train, x_dev, y_train, y_dev, train_y_cat, word_index = class_str_2_ind(x_train, x_dev, \n",
        "                                                                            y_train, y_dev,\n",
        "                                                                            CLASSES_LIST, MAX_FEATURES,\n",
        "                                                                            MAX_TEXT_LENGTH)\n",
        "dev_cat_y = np_utils.to_categorical(y_dev, len(CLASSES_LIST))"
      ],
      "execution_count": 11,
      "outputs": [
        {
          "output_type": "stream",
          "text": [
            "Converting data to trainable form...\n",
            "Number of training examples: 7000\n",
            "Number of dev examples: 1000\n"
          ],
          "name": "stdout"
        }
      ]
    },
    {
      "cell_type": "code",
      "metadata": {
        "id": "VQiq-BKShbLE",
        "colab_type": "code",
        "outputId": "85c0490c-8806-43df-8cdf-f269bd3dc108",
        "colab": {
          "base_uri": "https://localhost:8080/",
          "height": 34
        }
      },
      "source": [
        "print(\"Tokens number: \"+str(len(word_index)))"
      ],
      "execution_count": 12,
      "outputs": [
        {
          "output_type": "stream",
          "text": [
            "Tokens number: 30125\n"
          ],
          "name": "stdout"
        }
      ]
    },
    {
      "cell_type": "code",
      "metadata": {
        "id": "WjJd-CWUiNlQ",
        "colab_type": "code",
        "outputId": "f38a901d-d511-4dd0-d006-b8ee56860c1c",
        "colab": {
          "base_uri": "https://localhost:8080/",
          "height": 34
        }
      },
      "source": [
        "# Sequence length\n",
        "print(\"Original sequence length: \"+str(MAX_TEXT_LENGTH))\n"
      ],
      "execution_count": 13,
      "outputs": [
        {
          "output_type": "stream",
          "text": [
            "Original sequence length: 84\n"
          ],
          "name": "stdout"
        }
      ]
    },
    {
      "cell_type": "code",
      "metadata": {
        "id": "TRIAZtDUidul",
        "colab_type": "code",
        "colab": {}
      },
      "source": [
        "def get_model(embedding_weights, word_index, vocab_dim, max_length,layer, dropout, optimizer, print_summary=True):\n",
        "    \"\"\"\n",
        "    Create Neural Network With an Embedding layer\n",
        "    \"\"\"\n",
        "    inp = Input(shape=(max_length,))\n",
        "    model = Embedding(input_dim=len(word_index)+1,\n",
        "                      output_dim=vocab_dim,\n",
        "                      trainable=False,\n",
        "                      weights=[embedding_weights])(inp)\n",
        "    model = layer(model)\n",
        "    model = Dropout(dropout)(model)       \n",
        "    model = Flatten()(model)\n",
        "    model = Dense(2, activation='sigmoid')(model)\n",
        "    model = Model(inputs=inp, outputs=model)\n",
        "    \n",
        "    model.compile(loss='categorical_crossentropy', optimizer=optimizer, metrics=['accuracy'])\n",
        "    if print_summary:\n",
        "        model.summary()\n",
        "    return model\n",
        "\n",
        "\n",
        "def get_main_model(word_index, WORD_MODEL, EMBED_SIZE, MAX_TEXT_LENGTH, \n",
        "                   layer, dropout,optimizer):\n",
        "   \n",
        "    tmp = get_embedding_matrix(word_index, WORD_MODEL, EMBED_SIZE)\n",
        "    model = get_model(tmp, word_index, EMBED_SIZE, MAX_TEXT_LENGTH, \n",
        "                      layer, dropout, optimizer= optimizer ,print_summary=True)\n",
        "    return model\n",
        "\n",
        "\n",
        "class TestCallback(Callback):\n",
        "    def __init__(self, test_data):\n",
        "        self.test_data = test_data\n",
        "\n",
        "    def on_epoch_end(self, epoch, logs={}):\n",
        "        x, y = self.test_data\n",
        "        loss, acc = self.model.evaluate(x, y, verbose=0)\n",
        "        print('\\nTesting loss: {}, acc: {}\\n'.format(loss, acc))\n",
        "\n",
        "def train_fit_predict(model, x_train, x_test, y_train, y_test,class_weight, batch_size, epochs, TestCallback=TestCallback):\n",
        "   \n",
        "    history = model.fit(x_train, y_train,\n",
        "                        batch_size=batch_size,\n",
        "                        epochs=epochs, verbose=1,\n",
        "                        validation_data=(x_test, y_test),\n",
        "                        class_weight=class_weight,\n",
        "                        callbacks=[TestCallback((x_test, y_test))])\n",
        "    return history, model"
      ],
      "execution_count": 0,
      "outputs": []
    },
    {
      "cell_type": "markdown",
      "metadata": {
        "id": "n51vTvUGQOP4",
        "colab_type": "text"
      },
      "source": [
        "#### Note: the prior work is the same for all of the neural learning models."
      ]
    },
    {
      "cell_type": "markdown",
      "metadata": {
        "id": "IXB7MDh9lLcM",
        "colab_type": "text"
      },
      "source": [
        "#  RNN (LSTM) Model"
      ]
    },
    {
      "cell_type": "code",
      "metadata": {
        "id": "YKpEhF4ljGqR",
        "colab_type": "code",
        "outputId": "a1fc2a66-e0f0-4a4b-db1c-ef3b7cac55ba",
        "colab": {
          "base_uri": "https://localhost:8080/",
          "height": 407
        }
      },
      "source": [
        "model = get_main_model(word_index, WORD_MODEL, EMBED_SIZE, MAX_TEXT_LENGTH, \n",
        "                       layer= LSTM(units=16, return_sequences=True, return_state=False), dropout=0.5, \n",
        "                       optimizer= optimizers.Adam(0.001))"
      ],
      "execution_count": 42,
      "outputs": [
        {
          "output_type": "stream",
          "text": [
            "Building embedding matrix...\n",
            "Embedding matrix built.\n",
            "Model: \"model_4\"\n",
            "_________________________________________________________________\n",
            "Layer (type)                 Output Shape              Param #   \n",
            "=================================================================\n",
            "input_4 (InputLayer)         (None, 84)                0         \n",
            "_________________________________________________________________\n",
            "embedding_4 (Embedding)      (None, 84, 300)           9037800   \n",
            "_________________________________________________________________\n",
            "lstm_4 (LSTM)                (None, 84, 16)            20288     \n",
            "_________________________________________________________________\n",
            "dropout_4 (Dropout)          (None, 84, 16)            0         \n",
            "_________________________________________________________________\n",
            "flatten_4 (Flatten)          (None, 1344)              0         \n",
            "_________________________________________________________________\n",
            "dense_4 (Dense)              (None, 2)                 2690      \n",
            "=================================================================\n",
            "Total params: 9,060,778\n",
            "Trainable params: 22,978\n",
            "Non-trainable params: 9,037,800\n",
            "_________________________________________________________________\n"
          ],
          "name": "stdout"
        }
      ]
    },
    {
      "cell_type": "code",
      "metadata": {
        "id": "nIdYkbZzjJpe",
        "colab_type": "code",
        "outputId": "09e1f791-457f-4afd-fc4e-5561fafb128b",
        "colab": {
          "base_uri": "https://localhost:8080/",
          "height": 1000
        }
      },
      "source": [
        "time_start = time()\n",
        "history, model = train_fit_predict(model,\n",
        "                               x_train[:, :MAX_TEXT_LENGTH],\n",
        "                               x_dev[:, :MAX_TEXT_LENGTH],\n",
        "                               train_y_cat, dev_cat_y, class_weight=None,\n",
        "                               batch_size=500, epochs=15)\n",
        "time_start = time() - time_start\n",
        "\n",
        "print(\"Took : \"+str(np.round(time_start, 2))+\" (s)\") "
      ],
      "execution_count": 43,
      "outputs": [
        {
          "output_type": "stream",
          "text": [
            "Train on 7000 samples, validate on 1000 samples\n",
            "Epoch 1/15\n",
            "7000/7000 [==============================] - 6s 835us/step - loss: 0.5457 - acc: 0.8749 - val_loss: 0.3351 - val_acc: 0.9560\n",
            "\n",
            "Testing loss: 0.3351476159095764, acc: 0.956\n",
            "\n",
            "Epoch 2/15\n",
            "7000/7000 [==============================] - 5s 667us/step - loss: 0.2695 - acc: 0.9484 - val_loss: 0.2055 - val_acc: 0.9560\n",
            "\n",
            "Testing loss: 0.20551465719938278, acc: 0.956\n",
            "\n",
            "Epoch 3/15\n",
            "7000/7000 [==============================] - 5s 673us/step - loss: 0.2125 - acc: 0.9484 - val_loss: 0.1784 - val_acc: 0.9560\n",
            "\n",
            "Testing loss: 0.1783983495235443, acc: 0.956\n",
            "\n",
            "Epoch 4/15\n",
            "7000/7000 [==============================] - 5s 668us/step - loss: 0.1873 - acc: 0.9484 - val_loss: 0.1642 - val_acc: 0.9560\n",
            "\n",
            "Testing loss: 0.16415698558092118, acc: 0.956\n",
            "\n",
            "Epoch 5/15\n",
            "7000/7000 [==============================] - 5s 674us/step - loss: 0.1735 - acc: 0.9484 - val_loss: 0.1513 - val_acc: 0.9560\n",
            "\n",
            "Testing loss: 0.15130487981438637, acc: 0.956\n",
            "\n",
            "Epoch 6/15\n",
            "7000/7000 [==============================] - 5s 671us/step - loss: 0.1556 - acc: 0.9481 - val_loss: 0.1351 - val_acc: 0.9560\n",
            "\n",
            "Testing loss: 0.13512051886320114, acc: 0.956\n",
            "\n",
            "Epoch 7/15\n",
            "7000/7000 [==============================] - 5s 669us/step - loss: 0.1368 - acc: 0.9509 - val_loss: 0.1278 - val_acc: 0.9580\n",
            "\n",
            "Testing loss: 0.12779772283881902, acc: 0.958\n",
            "\n",
            "Epoch 8/15\n",
            "7000/7000 [==============================] - 5s 672us/step - loss: 0.1286 - acc: 0.9517 - val_loss: 0.1251 - val_acc: 0.9560\n",
            "\n",
            "Testing loss: 0.125084951069206, acc: 0.956\n",
            "\n",
            "Epoch 9/15\n",
            "7000/7000 [==============================] - 5s 682us/step - loss: 0.1235 - acc: 0.9520 - val_loss: 0.1227 - val_acc: 0.9560\n",
            "\n",
            "Testing loss: 0.12268184327334165, acc: 0.956\n",
            "\n",
            "Epoch 10/15\n",
            "7000/7000 [==============================] - 5s 672us/step - loss: 0.1179 - acc: 0.9521 - val_loss: 0.1205 - val_acc: 0.9580\n",
            "\n",
            "Testing loss: 0.12052161502093077, acc: 0.958\n",
            "\n",
            "Epoch 11/15\n",
            "7000/7000 [==============================] - 5s 678us/step - loss: 0.1131 - acc: 0.9540 - val_loss: 0.1241 - val_acc: 0.9580\n",
            "\n",
            "Testing loss: 0.12408628825843335, acc: 0.958\n",
            "\n",
            "Epoch 12/15\n",
            "7000/7000 [==============================] - 5s 662us/step - loss: 0.1086 - acc: 0.9561 - val_loss: 0.1194 - val_acc: 0.9600\n",
            "\n",
            "Testing loss: 0.11939282957091928, acc: 0.96\n",
            "\n",
            "Epoch 13/15\n",
            "7000/7000 [==============================] - 5s 673us/step - loss: 0.1060 - acc: 0.9559 - val_loss: 0.1190 - val_acc: 0.9610\n",
            "\n",
            "Testing loss: 0.11898698727786541, acc: 0.961\n",
            "\n",
            "Epoch 14/15\n",
            "7000/7000 [==============================] - 5s 674us/step - loss: 0.1027 - acc: 0.9584 - val_loss: 0.1273 - val_acc: 0.9620\n",
            "\n",
            "Testing loss: 0.1273266174942255, acc: 0.962\n",
            "\n",
            "Epoch 15/15\n",
            "7000/7000 [==============================] - 5s 677us/step - loss: 0.0986 - acc: 0.9597 - val_loss: 0.1184 - val_acc: 0.9590\n",
            "\n",
            "Testing loss: 0.11841939167305827, acc: 0.959\n",
            "\n",
            "Took : 79.31 (s)\n"
          ],
          "name": "stdout"
        }
      ]
    },
    {
      "cell_type": "code",
      "metadata": {
        "id": "Yt-l_Q9Aj44w",
        "colab_type": "code",
        "outputId": "24ee7896-fb7d-4146-97d5-0b5670725f03",
        "colab": {
          "base_uri": "https://localhost:8080/",
          "height": 34
        }
      },
      "source": [
        "history.history.keys()"
      ],
      "execution_count": 44,
      "outputs": [
        {
          "output_type": "execute_result",
          "data": {
            "text/plain": [
              "dict_keys(['val_loss', 'val_acc', 'loss', 'acc'])"
            ]
          },
          "metadata": {
            "tags": []
          },
          "execution_count": 44
        }
      ]
    },
    {
      "cell_type": "code",
      "metadata": {
        "id": "-xsxi8A1j_Fq",
        "colab_type": "code",
        "outputId": "51b509d4-caee-416b-f204-92c599add468",
        "colab": {
          "base_uri": "https://localhost:8080/",
          "height": 52
        }
      },
      "source": [
        "model.evaluate(x_dev[:, :MAX_TEXT_LENGTH], dev_cat_y, batch_size=1000)\n"
      ],
      "execution_count": 45,
      "outputs": [
        {
          "output_type": "stream",
          "text": [
            "\r1000/1000 [==============================] - 0s 306us/step\n"
          ],
          "name": "stdout"
        },
        {
          "output_type": "execute_result",
          "data": {
            "text/plain": [
              "[0.11841938644647598, 0.9589999914169312]"
            ]
          },
          "metadata": {
            "tags": []
          },
          "execution_count": 45
        }
      ]
    },
    {
      "cell_type": "code",
      "metadata": {
        "id": "X1e78k51kZ1S",
        "colab_type": "code",
        "outputId": "6fb462dd-bdb8-472d-8058-bbbe795b2fe5",
        "colab": {
          "base_uri": "https://localhost:8080/",
          "height": 176
        }
      },
      "source": [
        "y_pred = np.argmax(model.predict(x_dev[:, :MAX_TEXT_LENGTH]), axis=1)\n",
        "\n",
        "print(creport(np.argmax(dev_cat_y, axis=1), y_pred,target_names=['HS', 'NOT_HS'],digits=4))"
      ],
      "execution_count": 46,
      "outputs": [
        {
          "output_type": "stream",
          "text": [
            "              precision    recall  f1-score   support\n",
            "\n",
            "          HS     0.5882    0.2273    0.3279        44\n",
            "      NOT_HS     0.9654    0.9927    0.9789       956\n",
            "\n",
            "    accuracy                         0.9590      1000\n",
            "   macro avg     0.7768    0.6100    0.6534      1000\n",
            "weighted avg     0.9488    0.9590    0.9502      1000\n",
            "\n"
          ],
          "name": "stdout"
        }
      ]
    },
    {
      "cell_type": "code",
      "metadata": {
        "id": "po5GA7KMkGUM",
        "colab_type": "code",
        "outputId": "e3fbc3da-890f-4d49-e885-91386e63a8e6",
        "colab": {
          "base_uri": "https://localhost:8080/",
          "height": 105
        }
      },
      "source": [
        "n = np.argmin(history.history['val_loss'])\n",
        "\n",
        "print(\"Optimal epoch : {}\".format(n))\n",
        "print(\"Accuracy on train : {} %\".format(np.round(history.history['acc'][n]*100, 2)))\n",
        "print(\"Accuracy on val : {} %\".format(np.round(history.history['val_acc'][n]*100, 2)))\n",
        "print(\"Loss on train : {}\".format(np.round(history.history['loss'][n]*100, 2)))\n",
        "print(\"Loss on Val : {}\".format(np.round(history.history['val_loss'][n]*100, 2)))"
      ],
      "execution_count": 49,
      "outputs": [
        {
          "output_type": "stream",
          "text": [
            "Optimal epoch : 14\n",
            "Accuracy on train : 95.97 %\n",
            "Accuracy on val : 95.9 %\n",
            "Loss on train : 9.86\n",
            "Loss on Val : 11.84\n"
          ],
          "name": "stdout"
        }
      ]
    },
    {
      "cell_type": "code",
      "metadata": {
        "id": "PlVrg_zJkkLx",
        "colab_type": "code",
        "outputId": "82a86c46-c07e-42d8-b581-fe1c80c0a603",
        "colab": {
          "base_uri": "https://localhost:8080/",
          "height": 404
        }
      },
      "source": [
        "plt.figure(\"Loss Plot\", figsize=(12, 6))\n",
        "plt.plot(range(1, len(history.history['loss'])+1), history.history['loss'], label=\"train loss\")\n",
        "plt.plot(range(1, len(history.history['val_loss'])+1), history.history['val_loss'], label=\"val loss\")\n",
        "plt.plot(n+1,history.history[\"val_loss\"][n],\"r*\", label=\"Lowest loss\")\n",
        "plt.legend()\n",
        "plt.title(\"Learning Curve\")\n",
        "plt.ylabel(\"loss (cross_entropy)\")\n",
        "plt.xlabel(\"epochs\")\n",
        "plt.show();"
      ],
      "execution_count": 50,
      "outputs": [
        {
          "output_type": "display_data",
          "data": {
            "image/png": "[encoded data removed]",
            "text/plain": [
              "<Figure size 864x432 with 1 Axes>"
            ]
          },
          "metadata": {
            "tags": []
          }
        }
      ]
    },
    {
      "cell_type": "code",
      "metadata": {
        "id": "qb4o3UXJkrLC",
        "colab_type": "code",
        "outputId": "8cb4a4e2-b59e-405c-f7ef-1088bb71ec76",
        "colab": {
          "base_uri": "https://localhost:8080/",
          "height": 404
        }
      },
      "source": [
        "plt.figure(\"Accuracy Plot\", figsize=(12, 6))\n",
        "plt.plot(range(1, len(history.history['acc'])+1), history.history['acc'], label=\"train accuracy\")\n",
        "plt.plot(range(1, len(history.history['val_acc'])+1), history.history['val_acc'], label=\"Val accuracy\")\n",
        "plt.plot(n+1,history.history[\"val_acc\"][n],\"r*\", label=\"Opt. Acc. (csp. Lowest loss)\")\n",
        "plt.legend()\n",
        "plt.title(\"Accuracy Curve\")\n",
        "plt.ylabel(\"accuracy\")\n",
        "plt.xlabel(\"epochs\")\n",
        "plt.show()"
      ],
      "execution_count": 51,
      "outputs": [
        {
          "output_type": "display_data",
          "data": {
            "image/png": "[encoded data removed]",
            "text/plain": [
              "<Figure size 864x432 with 1 Axes>"
            ]
          },
          "metadata": {
            "tags": []
          }
        }
      ]
    },
    {
      "cell_type": "code",
      "metadata": {
        "id": "kZp0EW06kwhy",
        "colab_type": "code",
        "outputId": "fcab617d-901b-4ee3-e92b-ce3237a0b271",
        "colab": {
          "base_uri": "https://localhost:8080/",
          "height": 564
        }
      },
      "source": [
        "from keras.utils import plot_model\n",
        "plot_model(model, to_file='RNN_LSTM_model.png', show_shapes=False, show_layer_names=False)"
      ],
      "execution_count": 52,
      "outputs": [
        {
          "output_type": "execute_result",
          "data": {
            "image/png": "[encoded data removed]",
            "text/plain": [
              "<IPython.core.display.Image object>"
            ]
          },
          "metadata": {
            "tags": []
          },
          "execution_count": 52
        }
      ]
    },
    {
      "cell_type": "markdown",
      "metadata": {
        "id": "F-XRhkE5wNkw",
        "colab_type": "text"
      },
      "source": [
        "# RNN (BLSTM) Model \n"
      ]
    },
    {
      "cell_type": "code",
      "metadata": {
        "id": "wOhvzj0WXZ-g",
        "colab_type": "code",
        "colab": {
          "base_uri": "https://localhost:8080/",
          "height": 407
        },
        "outputId": "e8fb599c-3321-4433-b5cb-16bacc34c629"
      },
      "source": [
        "model = get_main_model(word_index, WORD_MODEL, EMBED_SIZE, MAX_TEXT_LENGTH, \n",
        "                       layer= Bidirectional(LSTM(units=32, return_sequences=True, return_state=False)), \n",
        "                       dropout=0.2, optimizer=optimizers.Adam())"
      ],
      "execution_count": 167,
      "outputs": [
        {
          "output_type": "stream",
          "text": [
            "Building embedding matrix...\n",
            "Embedding matrix built.\n",
            "Model: \"model_16\"\n",
            "_________________________________________________________________\n",
            "Layer (type)                 Output Shape              Param #   \n",
            "=================================================================\n",
            "input_16 (InputLayer)        (None, 84)                0         \n",
            "_________________________________________________________________\n",
            "embedding_16 (Embedding)     (None, 84, 300)           9037800   \n",
            "_________________________________________________________________\n",
            "bidirectional_9 (Bidirection (None, 84, 64)            85248     \n",
            "_________________________________________________________________\n",
            "dropout_16 (Dropout)         (None, 84, 64)            0         \n",
            "_________________________________________________________________\n",
            "flatten_16 (Flatten)         (None, 5376)              0         \n",
            "_________________________________________________________________\n",
            "dense_16 (Dense)             (None, 2)                 10754     \n",
            "=================================================================\n",
            "Total params: 9,133,802\n",
            "Trainable params: 96,002\n",
            "Non-trainable params: 9,037,800\n",
            "_________________________________________________________________\n"
          ],
          "name": "stdout"
        }
      ]
    },
    {
      "cell_type": "code",
      "metadata": {
        "id": "i62FHvSzXk7Q",
        "colab_type": "code",
        "colab": {
          "base_uri": "https://localhost:8080/",
          "height": 941
        },
        "outputId": "91daf336-ec2a-44a7-b07b-2cc3f1795338"
      },
      "source": [
        "time_start = time()\n",
        "history, model = train_fit_predict(model,\n",
        "                               x_train[:, :MAX_TEXT_LENGTH],\n",
        "                               x_dev[:, :MAX_TEXT_LENGTH],\n",
        "                               train_y_cat, dev_cat_y, class_weight=None,\n",
        "                               batch_size=500, epochs=10)\n",
        "time_start = time() - time_start\n",
        "\n",
        "print(\"Took : \"+str(np.round(time_start, 2))+\" (s)\") "
      ],
      "execution_count": 168,
      "outputs": [
        {
          "output_type": "stream",
          "text": [
            "Train on 7000 samples, validate on 1000 samples\n",
            "Epoch 1/10\n",
            "7000/7000 [==============================] - 17s 2ms/step - loss: 0.4376 - acc: 0.9081 - val_loss: 0.2274 - val_acc: 0.9560\n",
            "\n",
            "Testing loss: 0.2274200958609581, acc: 0.956\n",
            "\n",
            "Epoch 2/10\n",
            "7000/7000 [==============================] - 13s 2ms/step - loss: 0.2185 - acc: 0.9484 - val_loss: 0.1814 - val_acc: 0.9560\n",
            "\n",
            "Testing loss: 0.18138790315389633, acc: 0.956\n",
            "\n",
            "Epoch 3/10\n",
            "7000/7000 [==============================] - 13s 2ms/step - loss: 0.1825 - acc: 0.9484 - val_loss: 0.1589 - val_acc: 0.9560\n",
            "\n",
            "Testing loss: 0.15891621419787408, acc: 0.956\n",
            "\n",
            "Epoch 4/10\n",
            "7000/7000 [==============================] - 13s 2ms/step - loss: 0.1575 - acc: 0.9489 - val_loss: 0.1405 - val_acc: 0.9560\n",
            "\n",
            "Testing loss: 0.1404514151662588, acc: 0.956\n",
            "\n",
            "Epoch 5/10\n",
            "7000/7000 [==============================] - 13s 2ms/step - loss: 0.1369 - acc: 0.9513 - val_loss: 0.1263 - val_acc: 0.9590\n",
            "\n",
            "Testing loss: 0.12626913669705392, acc: 0.959\n",
            "\n",
            "Epoch 6/10\n",
            "7000/7000 [==============================] - 13s 2ms/step - loss: 0.1257 - acc: 0.9529 - val_loss: 0.1293 - val_acc: 0.9540\n",
            "\n",
            "Testing loss: 0.12929638730175794, acc: 0.954\n",
            "\n",
            "Epoch 7/10\n",
            "7000/7000 [==============================] - 13s 2ms/step - loss: 0.1188 - acc: 0.9539 - val_loss: 0.1243 - val_acc: 0.9540\n",
            "\n",
            "Testing loss: 0.12430897727608681, acc: 0.954\n",
            "\n",
            "Epoch 8/10\n",
            "7000/7000 [==============================] - 13s 2ms/step - loss: 0.1135 - acc: 0.9540 - val_loss: 0.1229 - val_acc: 0.9610\n",
            "\n",
            "Testing loss: 0.12289862802997231, acc: 0.961\n",
            "\n",
            "Epoch 9/10\n",
            "7000/7000 [==============================] - 13s 2ms/step - loss: 0.1076 - acc: 0.9556 - val_loss: 0.1223 - val_acc: 0.9580\n",
            "\n",
            "Testing loss: 0.12226111777871847, acc: 0.958\n",
            "\n",
            "Epoch 10/10\n",
            "7000/7000 [==============================] - 13s 2ms/step - loss: 0.1029 - acc: 0.9567 - val_loss: 0.1215 - val_acc: 0.9560\n",
            "\n",
            "Testing loss: 0.12154351579025388, acc: 0.956\n",
            "\n",
            "Took : 144.05 (s)\n"
          ],
          "name": "stdout"
        }
      ]
    },
    {
      "cell_type": "code",
      "metadata": {
        "id": "IWTJMbAqX5Gj",
        "colab_type": "code",
        "colab": {
          "base_uri": "https://localhost:8080/",
          "height": 52
        },
        "outputId": "db1d6e5b-d39e-4a2f-fac7-af01c56abaad"
      },
      "source": [
        "model.evaluate(x_dev[:, :MAX_TEXT_LENGTH], dev_cat_y, batch_size=1000)"
      ],
      "execution_count": 169,
      "outputs": [
        {
          "output_type": "stream",
          "text": [
            "\r1000/1000 [==============================] - 1s 546us/step\n"
          ],
          "name": "stdout"
        },
        {
          "output_type": "execute_result",
          "data": {
            "text/plain": [
              "[0.1215435266494751, 0.9559999704360962]"
            ]
          },
          "metadata": {
            "tags": []
          },
          "execution_count": 169
        }
      ]
    },
    {
      "cell_type": "code",
      "metadata": {
        "id": "Yf0CVyJrX-hu",
        "colab_type": "code",
        "colab": {
          "base_uri": "https://localhost:8080/",
          "height": 176
        },
        "outputId": "f426df10-815a-42a7-e876-c8d5b92812aa"
      },
      "source": [
        "y_pred = np.argmax(model.predict(x_dev[:, :MAX_TEXT_LENGTH]), axis=1)\n",
        "\n",
        "print(creport(np.argmax(dev_cat_y, axis=1), y_pred,target_names=['HS', 'NOT_HS'],digits=4))"
      ],
      "execution_count": 170,
      "outputs": [
        {
          "output_type": "stream",
          "text": [
            "              precision    recall  f1-score   support\n",
            "\n",
            "          HS     0.5000    0.2727    0.3529        44\n",
            "      NOT_HS     0.9672    0.9874    0.9772       956\n",
            "\n",
            "    accuracy                         0.9560      1000\n",
            "   macro avg     0.7336    0.6301    0.6651      1000\n",
            "weighted avg     0.9467    0.9560    0.9498      1000\n",
            "\n"
          ],
          "name": "stdout"
        }
      ]
    },
    {
      "cell_type": "code",
      "metadata": {
        "id": "Hjkr6-woi004",
        "colab_type": "code",
        "colab": {
          "base_uri": "https://localhost:8080/",
          "height": 564
        },
        "outputId": "dbc2f094-67bc-40b0-8213-a1384758d95a"
      },
      "source": [
        "plot_model(model, to_file='RNN_BLSTM_model.png', show_shapes=False, show_layer_names=False)"
      ],
      "execution_count": 173,
      "outputs": [
        {
          "output_type": "execute_result",
          "data": {
            "image/png": "[encoded data removed]",
            "text/plain": [
              "<IPython.core.display.Image object>"
            ]
          },
          "metadata": {
            "tags": []
          },
          "execution_count": 173
        }
      ]
    },
    {
      "cell_type": "markdown",
      "metadata": {
        "id": "noAxq9pOwUrb",
        "colab_type": "text"
      },
      "source": [
        "# RNN (GRU) Model\n"
      ]
    },
    {
      "cell_type": "code",
      "metadata": {
        "id": "cq0ES8O8djoG",
        "colab_type": "code",
        "colab": {
          "base_uri": "https://localhost:8080/",
          "height": 407
        },
        "outputId": "0e580e5f-9377-467a-ed6d-7d5fdb08f791"
      },
      "source": [
        "model = get_main_model(word_index, WORD_MODEL, EMBED_SIZE, MAX_TEXT_LENGTH, \n",
        "                       layer= GRU(units=16, return_sequences=True, return_state=False), \n",
        "                       dropout=0.5, optimizer=optimizers.Adam())"
      ],
      "execution_count": 181,
      "outputs": [
        {
          "output_type": "stream",
          "text": [
            "Building embedding matrix...\n",
            "Embedding matrix built.\n",
            "Model: \"model_18\"\n",
            "_________________________________________________________________\n",
            "Layer (type)                 Output Shape              Param #   \n",
            "=================================================================\n",
            "input_18 (InputLayer)        (None, 84)                0         \n",
            "_________________________________________________________________\n",
            "embedding_18 (Embedding)     (None, 84, 300)           9037800   \n",
            "_________________________________________________________________\n",
            "gru_4 (GRU)                  (None, 84, 16)            15216     \n",
            "_________________________________________________________________\n",
            "dropout_18 (Dropout)         (None, 84, 16)            0         \n",
            "_________________________________________________________________\n",
            "flatten_18 (Flatten)         (None, 1344)              0         \n",
            "_________________________________________________________________\n",
            "dense_18 (Dense)             (None, 2)                 2690      \n",
            "=================================================================\n",
            "Total params: 9,055,706\n",
            "Trainable params: 17,906\n",
            "Non-trainable params: 9,037,800\n",
            "_________________________________________________________________\n"
          ],
          "name": "stdout"
        }
      ]
    },
    {
      "cell_type": "code",
      "metadata": {
        "id": "SGyK0YxHeHxU",
        "colab_type": "code",
        "colab": {
          "base_uri": "https://localhost:8080/",
          "height": 1000
        },
        "outputId": "83e3708b-7c0c-4a2b-c2fd-486150f72cd5"
      },
      "source": [
        "time_start = time()\n",
        "history, model = train_fit_predict(model,\n",
        "                               x_train[:, :MAX_TEXT_LENGTH],\n",
        "                               x_dev[:, :MAX_TEXT_LENGTH],\n",
        "                               train_y_cat, dev_cat_y, class_weight=None,\n",
        "                               batch_size=500, epochs=15)\n",
        "time_start = time() - time_start\n",
        "\n",
        "print(\"Took : \"+str(np.round(time_start, 2))+\" (s)\") "
      ],
      "execution_count": 182,
      "outputs": [
        {
          "output_type": "stream",
          "text": [
            "Train on 7000 samples, validate on 1000 samples\n",
            "Epoch 1/15\n",
            "7000/7000 [==============================] - 8s 1ms/step - loss: 0.5246 - acc: 0.8624 - val_loss: 0.3077 - val_acc: 0.9560\n",
            "\n",
            "Testing loss: 0.3077390531301498, acc: 0.956\n",
            "\n",
            "Epoch 2/15\n",
            "7000/7000 [==============================] - 4s 540us/step - loss: 0.2563 - acc: 0.9484 - val_loss: 0.2055 - val_acc: 0.9560\n",
            "\n",
            "Testing loss: 0.20550610518455506, acc: 0.956\n",
            "\n",
            "Epoch 3/15\n",
            "7000/7000 [==============================] - 4s 536us/step - loss: 0.2139 - acc: 0.9484 - val_loss: 0.1780 - val_acc: 0.9560\n",
            "\n",
            "Testing loss: 0.17800627326965332, acc: 0.956\n",
            "\n",
            "Epoch 4/15\n",
            "7000/7000 [==============================] - 4s 538us/step - loss: 0.1917 - acc: 0.9484 - val_loss: 0.1686 - val_acc: 0.9560\n",
            "\n",
            "Testing loss: 0.16861123284697532, acc: 0.956\n",
            "\n",
            "Epoch 5/15\n",
            "7000/7000 [==============================] - 4s 536us/step - loss: 0.1811 - acc: 0.9484 - val_loss: 0.1600 - val_acc: 0.9560\n",
            "\n",
            "Testing loss: 0.16001157158613205, acc: 0.956\n",
            "\n",
            "Epoch 6/15\n",
            "7000/7000 [==============================] - 4s 538us/step - loss: 0.1708 - acc: 0.9484 - val_loss: 0.1496 - val_acc: 0.9560\n",
            "\n",
            "Testing loss: 0.14955879917740822, acc: 0.956\n",
            "\n",
            "Epoch 7/15\n",
            "7000/7000 [==============================] - 4s 542us/step - loss: 0.1549 - acc: 0.9486 - val_loss: 0.1383 - val_acc: 0.9560\n",
            "\n",
            "Testing loss: 0.13826877397298812, acc: 0.956\n",
            "\n",
            "Epoch 8/15\n",
            "7000/7000 [==============================] - 4s 544us/step - loss: 0.1430 - acc: 0.9489 - val_loss: 0.1290 - val_acc: 0.9560\n",
            "\n",
            "Testing loss: 0.12900964047014712, acc: 0.956\n",
            "\n",
            "Epoch 9/15\n",
            "7000/7000 [==============================] - 4s 544us/step - loss: 0.1343 - acc: 0.9511 - val_loss: 0.1220 - val_acc: 0.9560\n",
            "\n",
            "Testing loss: 0.12198059518635274, acc: 0.956\n",
            "\n",
            "Epoch 10/15\n",
            "7000/7000 [==============================] - 4s 538us/step - loss: 0.1270 - acc: 0.9524 - val_loss: 0.1200 - val_acc: 0.9570\n",
            "\n",
            "Testing loss: 0.12004500159621238, acc: 0.957\n",
            "\n",
            "Epoch 11/15\n",
            "7000/7000 [==============================] - 4s 539us/step - loss: 0.1245 - acc: 0.9520 - val_loss: 0.1159 - val_acc: 0.9610\n",
            "\n",
            "Testing loss: 0.11591215047240257, acc: 0.961\n",
            "\n",
            "Epoch 12/15\n",
            "7000/7000 [==============================] - 4s 544us/step - loss: 0.1194 - acc: 0.9551 - val_loss: 0.1161 - val_acc: 0.9590\n",
            "\n",
            "Testing loss: 0.11613988638296724, acc: 0.959\n",
            "\n",
            "Epoch 13/15\n",
            "7000/7000 [==============================] - 4s 548us/step - loss: 0.1142 - acc: 0.9570 - val_loss: 0.1180 - val_acc: 0.9600\n",
            "\n",
            "Testing loss: 0.11795939061045646, acc: 0.96\n",
            "\n",
            "Epoch 14/15\n",
            "7000/7000 [==============================] - 4s 534us/step - loss: 0.1107 - acc: 0.9567 - val_loss: 0.1143 - val_acc: 0.9570\n",
            "\n",
            "Testing loss: 0.11427535088360309, acc: 0.957\n",
            "\n",
            "Epoch 15/15\n",
            "7000/7000 [==============================] - 4s 539us/step - loss: 0.1083 - acc: 0.9557 - val_loss: 0.1155 - val_acc: 0.9570\n",
            "\n",
            "Testing loss: 0.11553058420866728, acc: 0.957\n",
            "\n",
            "Took : 66.89 (s)\n"
          ],
          "name": "stdout"
        }
      ]
    },
    {
      "cell_type": "code",
      "metadata": {
        "id": "8ENyBQVzejz9",
        "colab_type": "code",
        "colab": {
          "base_uri": "https://localhost:8080/",
          "height": 52
        },
        "outputId": "4ad2ad2b-bf24-40ea-91a0-f18bdcff36f7"
      },
      "source": [
        "model.evaluate(x_dev[:, :MAX_TEXT_LENGTH], dev_cat_y, batch_size=1000)"
      ],
      "execution_count": 183,
      "outputs": [
        {
          "output_type": "stream",
          "text": [
            "\r1000/1000 [==============================] - 0s 229us/step\n"
          ],
          "name": "stdout"
        },
        {
          "output_type": "execute_result",
          "data": {
            "text/plain": [
              "[0.1155305728316307, 0.9570000171661377]"
            ]
          },
          "metadata": {
            "tags": []
          },
          "execution_count": 183
        }
      ]
    },
    {
      "cell_type": "code",
      "metadata": {
        "id": "ZoiPJ2MXejop",
        "colab_type": "code",
        "colab": {
          "base_uri": "https://localhost:8080/",
          "height": 176
        },
        "outputId": "5f68fda3-d71e-4ea1-d2c8-b9118ad8078c"
      },
      "source": [
        "y_pred = np.argmax(model.predict(x_dev[:, :MAX_TEXT_LENGTH]), axis=1)\n",
        "\n",
        "print(creport(np.argmax(dev_cat_y, axis=1), y_pred,target_names=['HS', 'NOT_HS'],digits=4))"
      ],
      "execution_count": 184,
      "outputs": [
        {
          "output_type": "stream",
          "text": [
            "              precision    recall  f1-score   support\n",
            "\n",
            "          HS     0.5263    0.2273    0.3175        44\n",
            "      NOT_HS     0.9653    0.9906    0.9778       956\n",
            "\n",
            "    accuracy                         0.9570      1000\n",
            "   macro avg     0.7458    0.6089    0.6476      1000\n",
            "weighted avg     0.9460    0.9570    0.9487      1000\n",
            "\n"
          ],
          "name": "stdout"
        }
      ]
    },
    {
      "cell_type": "code",
      "metadata": {
        "id": "4UMgjml0i4nQ",
        "colab_type": "code",
        "colab": {
          "base_uri": "https://localhost:8080/",
          "height": 564
        },
        "outputId": "a47588c4-74f7-4c98-9ba7-f3977b41ce7f"
      },
      "source": [
        "plot_model(model, to_file='RNN_GRU_model.png', show_shapes=False, show_layer_names=False)"
      ],
      "execution_count": 180,
      "outputs": [
        {
          "output_type": "execute_result",
          "data": {
            "image/png": "[encoded data removed]",
            "text/plain": [
              "<IPython.core.display.Image object>"
            ]
          },
          "metadata": {
            "tags": []
          },
          "execution_count": 180
        }
      ]
    },
    {
      "cell_type": "markdown",
      "metadata": {
        "id": "EjBmZsD8wbF2",
        "colab_type": "text"
      },
      "source": [
        "# CNN Model\n",
        "[Colab Notebook](https://colab.research.google.com/drive/1_USllONVZIbf88aoPuQrzg9sg5HtY7K7)"
      ]
    },
    {
      "cell_type": "markdown",
      "metadata": {
        "id": "ShqpL2T8wdaa",
        "colab_type": "text"
      },
      "source": [
        "# Combined CNN-RNN Models\n",
        "[Colab Notebook](https://colab.research.google.com/drive/1LbZdJNvTzTqu6qLjDbOaeccJl36anJEw)"
      ]
    },
    {
      "cell_type": "code",
      "metadata": {
        "id": "PMeeL-Gqfy6p",
        "colab_type": "code",
        "colab": {}
      },
      "source": [
        ""
      ],
      "execution_count": 0,
      "outputs": []
    }
  ]
}